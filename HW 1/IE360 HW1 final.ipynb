{
 "cells": [
  {
   "cell_type": "markdown",
   "id": "537bb384",
   "metadata": {},
   "source": [
    "# Homework 1\n",
    "Doğa Durmuş\n",
    "2018402015\n",
    "3/04/2022"
   ]
  },
  {
   "cell_type": "markdown",
   "id": "1a86655b",
   "metadata": {},
   "source": [
    "# Introduction\n"
   ]
  },
  {
   "cell_type": "markdown",
   "id": "57df55b2",
   "metadata": {},
   "source": [
    "For this homework, the datasets chosen are:\n",
    "1-Monthly USD/TRY Exchage Rate\n",
    "2-Monthly Consumer Price Index\n",
    "3-Monthly Average (Cumhuriyet) Gold Selling Price\n",
    "\n",
    "    The rise of dollar rate and infation have been ongoing topics of Turkey for years. Especially in late 2021, there was a sudden jump in the exchange rates, followed by the sudden increase in prices.\n",
    "    The aim of this research is to find the effect of exchange rates, if there are any, on the lives of the regular, average citizens of Turkey. \n",
    "    Therefore, I will start the research by visualizing and exploring the behaviour of the monthly USD exchange rate data of 2 years, from February 2020 to February 2022, since gold and CPI values are not available for March 2022.\n",
    "    To see whether the exchange rates affect the prices, I chose 2 datasets that might show the effects if there are any. The reason why I chose Consumer Price Index is to see the changes in prices of a general market basket of products, which are used in every day life. I also wanted to see the effect of the prices of a common investment, which is gold, therefore, I also chose Gold Selling Prices data. Likewise, these 2 datasets will be visualized and explored. Then will be checked for similar patterns and trends and correlation.\n",
    "    Furthermore, exchange rates, prices of the products for everyday-use, and gold are all highly impactful subjects for people in Turkey. It has been highly discussed especially for the past years. So, using Google Trends data, I will try to see if search volume of a related keyword has some relation to a measure or a change.\n",
    "\n"
   ]
  },
  {
   "cell_type": "code",
   "execution_count": 11,
   "id": "3b204c47",
   "metadata": {},
   "outputs": [],
   "source": [
    "#install.packages('zoo')\n",
    "#install.packages('ggplot2')\n",
    "#install.packages('GGally')\n",
    "#install.packages('ggcorrplot')\n"
   ]
  },
  {
   "cell_type": "code",
   "execution_count": 10,
   "id": "61e3bd41",
   "metadata": {},
   "outputs": [
    {
     "ename": "ERROR",
     "evalue": "Error in library(ggplot2): there is no package called 'ggplot2'\n",
     "output_type": "error",
     "traceback": [
      "Error in library(ggplot2): there is no package called 'ggplot2'\nTraceback:\n",
      "1. library(ggplot2)"
     ]
    }
   ],
   "source": [
    "library(data.table)\n",
    "library(lubridate)\n",
    "library(ggplot2)\n",
    "library(zoo)\n",
    "library(ggcorrplot)\n",
    "library(GGally)\n",
    "datapath='C:/Users/dogad/Desktop/IE360/alldata.csv'\n",
    "alldata=fread(datapath)\n",
    "str(alldata)\n",
    "alldata$date=dmy(alldata$date)\n",
    "str(alldata)"
   ]
  },
  {
   "cell_type": "markdown",
   "id": "a1df9213",
   "metadata": {},
   "source": [
    "Before reading the data, all data is gathered in one sheet and column names are changed to simpler names to achieve a better readability. Also the necessary transformation of date clumn from character to date is done. Data is in data table form, done by fread function."
   ]
  },
  {
   "cell_type": "markdown",
   "id": "453a0eed",
   "metadata": {},
   "source": [
    "## Constructing Line Graphs\n",
    "\n",
    "First, to see the overall behaviour, ggplot is used to plot the data  versus time. Date breaks of 3 months, minor date breaks of 1 month are added, breaks are also added to y axis and some visual changes are done to increase readability. This procedure is done for each of 3 data sets. "
   ]
  },
  {
   "cell_type": "code",
   "execution_count": null,
   "id": "56ac148d",
   "metadata": {},
   "outputs": [],
   "source": [
    "ggpexc <- ggplot(data = alldata,aes(x = date,y = rate))\n",
    "ggpexc + geom_line(color =\"black\") + labs(title = \"USD/TRY Exchange Rates vs. Time\",x = \"Time\", y = \"USD Exchange Rate\" ) +scale_x_date(date_breaks = \"3 month\",date_minor_breaks = \"1 month\")+\n",
    "  theme(axis.text.x=element_text(angle=60, hjust=1.4, vjust = 1.4)) +\n",
    "  scale_y_continuous(breaks = seq(from = 0,to = 16,by = 1))"
   ]
  },
  {
   "cell_type": "code",
   "execution_count": null,
   "id": "729ff9e6",
   "metadata": {},
   "outputs": [],
   "source": [
    "ggpcpi <- ggplot(data = alldata,aes(x = date,y = cpi))\n",
    "ggpcpi + geom_line(color =\"black\") + labs(title = \"Consumer Price Index vs. Time\",x = \"Time\", y = \"Consumer Price Index\" )+scale_x_date(date_breaks = \"3 month\",date_minor_breaks = \"1 month\")+\n",
    "  theme(axis.text.x=element_text(angle=60, hjust=1.4, vjust = 1.4)) +\n",
    "  scale_y_continuous(breaks = seq(from = 300,to = 800,by = 25))\n"
   ]
  },
  {
   "cell_type": "code",
   "execution_count": null,
   "id": "6f533b14",
   "metadata": {},
   "outputs": [],
   "source": [
    "ggpgold <- ggplot(data = alldata,aes(x = date,y = gold))\n",
    "ggpgold + geom_line(color =\"black\") + labs(title = \"Gold Price vs. Time\",x = \"Time\", y = \"Gold Price(TRY) \" )+scale_x_date(date_breaks = \"3 month\",date_minor_breaks = \"1 month\") +\n",
    "  theme(axis.text.x=element_text(angle=60, hjust=1.4, vjust = 1.4)) +\n",
    "  scale_y_continuous(breaks = seq(from = 1000,to = 6500,by = 250))\n"
   ]
  },
  {
   "cell_type": "markdown",
   "id": "65482c46",
   "metadata": {},
   "source": [
    "Since these graphs have different values, to do a better comparison and see if they have related behavior, normalization is done. After scaling them, I plotted them together in a single graph and observed them visually."
   ]
  },
  {
   "cell_type": "code",
   "execution_count": null,
   "id": "2fe98f35",
   "metadata": {},
   "outputs": [],
   "source": [
    "alldata[,exchange_normalized:=(alldata$rate-min(alldata$rate))/(max(alldata$rate)-min(alldata$rate))]\n",
    "alldata[,cpi_normalized:=(alldata$cpi-min(alldata$cpi))/(max(alldata$cpi)-min(alldata$cpi))]\n",
    "alldata[,gold_normalized:=(alldata$gold-min(alldata$gold))/(max(alldata$gold)-min(alldata$gold))]\n",
    "\n",
    "gg_all<-ggplot(data=alldata,aes(x=date,y=exchange_normalized))\n",
    "gg_all + geom_line(color=\"black\") + geom_line(data=alldata,aes(x=date,y=cpi_normalized),color=\"red\")+geom_line(data=alldata,aes(x=date,y=gold_normalized),color=\"blue\")+ labs(title = \"Normalized Data vs Time\")\n"
   ]
  },
  {
   "cell_type": "markdown",
   "id": "8fb82e50",
   "metadata": {},
   "source": [
    "Black line represents the exchange rate data, red represents CPI data and blue represents gold price data.\n",
    "Blue and black lines seem to have very similar behavior, they have the same fluctuations in the same times. Therefore exchange rates and gold prices are likely to have a relation.\n",
    "Red graph on the other hand has a much smoother behavior. Even though it doesn't fluctuate as much as the others do, it still follows a similar upward trend and all three lines accelerate their behaviour in late 2021. It is also likely that CPI has some relation with exchange rates and gold prices."
   ]
  },
  {
   "cell_type": "markdown",
   "id": "e5ba284b",
   "metadata": {},
   "source": [
    "## Google Trends Analysis\n",
    "Google Trends data can be useful determining the effects of the change in exchange rates. It might be particularly useful with the data sets of my choice: CPI and gold prices. CPI is calculated on a standard market basket, which are the products which the average Turkish citizen buys regularly. Therefore, when there is a change in the prices, or a high inflation, it may show in the Google Trends data. Furthermore, since gold is a common investment in Turkey, a high number of people would be affected by the price changes and it may also show in the Google Trends data.\n",
    "Keywords selected are:\n",
    "For exchange rate: \"dolar\", \"dolar kaç tl\", \"dolar kuru\"\n",
    "For CPI: \"zam\", \"zam geldi\"\n",
    "For gold: \"altın\",\"altın zam\", \"altın fiyatı\""
   ]
  },
  {
   "cell_type": "code",
   "execution_count": null,
   "id": "76f4bd5b",
   "metadata": {},
   "outputs": [],
   "source": [
    "gt_dolar<-read.csv(\"gt dolar.csv\")\n",
    "gt_dolarkactl<-read.csv(\"gt dolar kaç tl.csv\")\n",
    "gt_dolarkuru<-read.csv(\"dolar kuru.csv\")\n",
    "\n",
    "gt_zam<-read.csv(\"zam.csv\")\n",
    "gt_zamgeldi<-read.csv(\"zam geldi.csv\")\n",
    "\n",
    "gt_altin<-read.csv(\"altın.csv\")\n",
    "gt_altinzam<-read.csv(\"altın zam.csv\")\n",
    "gt_altinfiyati<-read.csv(\"altın fiyatı.csv\")"
   ]
  },
  {
   "cell_type": "code",
   "execution_count": null,
   "id": "fd6f75c6",
   "metadata": {},
   "outputs": [],
   "source": [
    "gg_d_1<-ggplot(data=gt_dolar,aes(x=Ay,y=dolar,group=1))+geom_line()+theme(axis.text.x=element_text(angle=60, hjust=1.4, vjust = 1.4))\n",
    "gg_d_1\n",
    "gg_d_2<-ggplot(data=gt_dolarkactl,aes(x=Ay,y=dolar.kac.tl,group=1))+geom_line()+theme(axis.text.x=element_text(angle=60, hjust=1.4, vjust = 1.4))\n",
    "gg_d_2\n",
    "gg_d_3<-ggplot(data=gt_dolarkuru,aes(x=Ay,y=dolar.kuru,group=1))+geom_line()+theme(axis.text.x=element_text(angle=60, hjust=1.4, vjust = 1.4))\n",
    "gg_d_3"
   ]
  },
  {
   "cell_type": "markdown",
   "id": "85ac0f2b",
   "metadata": {},
   "source": [
    "These 3 graphs have very similar behavior, however comparing with the line graph of exchange rates vs. time, they have different behaviour. The volume of the seach of a related keyword is not increasing proportionally with the increase in exchange rate but rather, when there is a sudden big jump, the volume of the search also has a jump but then it decreases even if the exchange rate is still increasing. For example in December 2021, there was a sudden jump in rates, then the rate continued rising but with a lower rate of increasing. So even though it continued rising, the volume of the search decreased."
   ]
  },
  {
   "cell_type": "code",
   "execution_count": null,
   "id": "fc7e7fc9",
   "metadata": {},
   "outputs": [],
   "source": [
    "gg_z_1<-ggplot(data=gt_zam,aes(x=Ay,y=zam,group=1))+geom_line()+theme(axis.text.x=element_text(angle=60, hjust=1.4, vjust = 1.4))\n",
    "gg_z_1\n",
    "gg_z_2<-ggplot(data=gt_zamgeldi,aes(x=Ay,y=zam.geldi,group=1))+geom_line()+theme(axis.text.x=element_text(angle=60, hjust=1.4, vjust = 1.4))\n",
    "gg_z_2"
   ]
  },
  {
   "cell_type": "markdown",
   "id": "422914db",
   "metadata": {},
   "source": [
    "For CPI I decided to use the keywords \"zam\" and \"zam geldi\". Since Consumer Price Index is not a concept most consumers know about, and is a common inflation indicator, therefore inflation related keywords are used.\n",
    "CPI tends to increase gradually without fluctions. Search volumes of the keywords have a similar behaviour with exchange rate keywords which can be a indicator of exchange rates and CPI might be related."
   ]
  },
  {
   "cell_type": "code",
   "execution_count": null,
   "id": "82ab5d41",
   "metadata": {},
   "outputs": [],
   "source": [
    "gg_a_1<-ggplot(data=gt_altin,aes(x=Ay,y=altin,group=1))+geom_line()+theme(axis.text.x=element_text(angle=60, hjust=1.4, vjust = 1.4))\n",
    "gg_a_1\n",
    "gg_a_2<-ggplot(data=gt_altinzam,aes(x=Ay,y=altin.zam,group=1))+geom_line()+theme(axis.text.x=element_text(angle=60, hjust=1.4, vjust = 1.4))\n",
    "gg_a_2\n",
    "gg_a_3<-ggplot(data=gt_altinfiyati,aes(x=Ay,y=altin.fiyatı,group=1))+geom_line()+theme(axis.text.x=element_text(angle=60, hjust=1.4, vjust = 1.4))\n",
    "gg_a_3"
   ]
  },
  {
   "cell_type": "markdown",
   "id": "e01dd832",
   "metadata": {},
   "source": [
    "Like in exchange rate google trends analysis, volume of the keywords high up and downs when there is a sudden price increase in gold."
   ]
  },
  {
   "cell_type": "markdown",
   "id": "b43f5c28",
   "metadata": {},
   "source": [
    "## Correlation Analysis\n",
    "Since the aim of this report is to determine if exchange rates are related to CPI and gold prices, or if exchange rates have any effect on them, a correlation analysis is conducted."
   ]
  },
  {
   "cell_type": "code",
   "execution_count": null,
   "id": "fdab6640",
   "metadata": {},
   "outputs": [],
   "source": [
    "for_corr=alldata[,c(\"rate\",\"cpi\",\"gold\")]\n",
    "corr_info=cor(for_corr)\n",
    "corr_info\n",
    "ggcorrplot(corr_info)\n",
    "ggpairs(for_corr)"
   ]
  },
  {
   "cell_type": "markdown",
   "id": "57641e82",
   "metadata": {},
   "source": [
    "As seen in correlation matrix and plot, exchange rates are highly correlated with CPI and gold prices. Correlation is almost 1 which is very significant. Also, checking ggpairs plot might be a good idea, inwhich we can also see the high positive correlation of exchange rates with gold prices and CPI. In the scatter plot, the data is almost linear which corresponds to a high positive correlation between the sets."
   ]
  },
  {
   "cell_type": "markdown",
   "id": "80435987",
   "metadata": {},
   "source": [
    "## Conclusions\n",
    "The aim was to see if exchange rates have some relationship with CPI and gold prices by visualization and correlation analysis.\n",
    "In first part, line graphs showed similar behavior especially with gold prices. Exchange rates and gold prices have almost identical jumps and inclining trend. Even though CPI has a smoother graph with less fluctuations, it also shared the same increasing trend with accelerations around the jumps in exchange rates. The reason why CPI doesn't have high fluctions is because inflation has many other factors such as government intervention.\n",
    "Then google trends analysis is conducted to see if search volumes of related keywords also have a similar behaviour. Which showed that when exchange rates have a big upward change, both gold and CPI related keywords have a quick jump. Which also indicates a relation between exchange rates with the other two data.\n",
    "Finally by checking the correlation, we can actually see that exchange rate - CPI and exchange rate - gold prices values are highly correlated."
   ]
  }
 ],
 "metadata": {
  "kernelspec": {
   "display_name": "R",
   "language": "R",
   "name": "ir"
  },
  "language_info": {
   "codemirror_mode": "r",
   "file_extension": ".r",
   "mimetype": "text/x-r-source",
   "name": "R",
   "pygments_lexer": "r",
   "version": "3.6.1"
  }
 },
 "nbformat": 4,
 "nbformat_minor": 5
}
